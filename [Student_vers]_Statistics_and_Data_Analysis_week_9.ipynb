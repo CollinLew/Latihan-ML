{
  "nbformat": 4,
  "nbformat_minor": 0,
  "metadata": {
    "colab": {
      "name": "[Student vers] Statistics and Data Analysis week 9.ipynb",
      "provenance": [],
      "toc_visible": true
    },
    "kernelspec": {
      "name": "python3",
      "display_name": "Python 3"
    }
  },
  "cells": [
    {
      "cell_type": "markdown",
      "metadata": {
        "id": "-j9vSbq47KWm",
        "colab_type": "text"
      },
      "source": [
        "# <center>Linear Regression Analysis</center>\n",
        "\n",
        "This course is devoted to student of Magister Informatics, Telkom University. \n",
        "\n",
        "Detail of Course\n",
        "\n",
        "\n",
        "*   Course Code: CSH853\n",
        "\n",
        "*   Course Name: Statistics and Data Analysis\n",
        "\n",
        "*   Lecturer: Dr. Putu Harry Gunawan\n",
        "\n",
        "\n",
        "---\n",
        "\n",
        "\n",
        "\n",
        "**Linear regression** is one of the fundamental statistical and machine learning techniques. Whether you want to do statistics, machine learning, or scientific computing, there are good chances that you’ll need it. It’s advisable to learn it first and then proceed towards more complex methods.\n",
        "\n",
        "<img src = \"https://i.imgur.com/CdgWJiM.png\" align = \"center\">\n",
        "\n",
        "First of all, let's us review some basics of Python\n"
      ]
    },
    {
      "cell_type": "markdown",
      "metadata": {
        "id": "6rBcVjSMxD1F",
        "colab_type": "text"
      },
      "source": [
        "# Basic Python\n",
        "\n"
      ]
    },
    {
      "cell_type": "markdown",
      "metadata": {
        "id": "frfJ1AeIyGtG",
        "colab_type": "text"
      },
      "source": [
        "**Variables**"
      ]
    },
    {
      "cell_type": "code",
      "metadata": {
        "id": "hDrkYePg4Oc2",
        "colab_type": "code",
        "colab": {}
      },
      "source": [
        "A = 1\n",
        "B = 3.8\n",
        "C = 'Test'\n",
        "print(A)\n",
        "print(B)\n",
        "print(C)"
      ],
      "execution_count": 0,
      "outputs": []
    },
    {
      "cell_type": "markdown",
      "metadata": {
        "id": "afHm8Yg2ym_p",
        "colab_type": "text"
      },
      "source": [
        "**Arrays**\n",
        "\n",
        "Create an array"
      ]
    },
    {
      "cell_type": "code",
      "metadata": {
        "id": "DXwCj6meylAU",
        "colab_type": "code",
        "colab": {}
      },
      "source": [
        "cars = [\"Ford\", \"Volvo\", \"BMW\", \"Alya\", \"Mitsubishi\"]\n",
        "\n",
        "lengt = len(cars)\n",
        "lengt"
      ],
      "execution_count": 0,
      "outputs": []
    },
    {
      "cell_type": "markdown",
      "metadata": {
        "id": "OkMgk-4VzZyK",
        "colab_type": "text"
      },
      "source": [
        "Get the first element of array"
      ]
    },
    {
      "cell_type": "code",
      "metadata": {
        "id": "SbQkjYuszeKU",
        "colab_type": "code",
        "colab": {}
      },
      "source": [
        "x = cars[0]\n",
        "print(x)"
      ],
      "execution_count": 0,
      "outputs": []
    },
    {
      "cell_type": "markdown",
      "metadata": {
        "id": "3Eq6yn8_zy7q",
        "colab_type": "text"
      },
      "source": [
        "Adding --> append()\n",
        "\n",
        "Delete by Index --> pop()\n",
        "\n",
        "Delete by value --> remove()"
      ]
    },
    {
      "cell_type": "code",
      "metadata": {
        "id": "XB4BMJAi0H6b",
        "colab_type": "code",
        "colab": {}
      },
      "source": [
        "#Adding Honda\n",
        "cars.append(\"Honda\")\n",
        "print(cars)\n",
        "\n",
        "#Delete third element\n",
        "cars.pop(2)\n",
        "print(cars)\n",
        "\n",
        "#Remove Volvo\n",
        "cars.remove(\"Volvo\")\n",
        "print(cars)"
      ],
      "execution_count": 0,
      "outputs": []
    },
    {
      "cell_type": "markdown",
      "metadata": {
        "id": "E83YJ6XQ03WA",
        "colab_type": "text"
      },
      "source": [
        "**Loop process**"
      ]
    },
    {
      "cell_type": "code",
      "metadata": {
        "id": "OqtEP__t092H",
        "colab_type": "code",
        "colab": {}
      },
      "source": [
        "for x in cars:\n",
        "  print(x)"
      ],
      "execution_count": 0,
      "outputs": []
    },
    {
      "cell_type": "markdown",
      "metadata": {
        "id": "Sz1xENlA2pTt",
        "colab_type": "text"
      },
      "source": [
        "**NumPy**\n",
        "\n",
        "NumPy is a general-purpose array-processing package. It provides a high-performance multidimensional array object, and tools for working with these arrays."
      ]
    },
    {
      "cell_type": "code",
      "metadata": {
        "id": "OTv7ZPih2tnW",
        "colab_type": "code",
        "colab": {}
      },
      "source": [
        "# Python program to demonstrate \n",
        "# array creation techniques \n",
        "import numpy as np \n",
        "\n",
        "Vec = np.arange(0.0, 1.0, 0.1)\n",
        "Vec"
      ],
      "execution_count": 0,
      "outputs": []
    },
    {
      "cell_type": "code",
      "metadata": {
        "id": "eWxq3O913Ldr",
        "colab_type": "code",
        "colab": {}
      },
      "source": [
        "\n",
        "# Creating array from list with type float \n",
        "a = np.array([[1, 2, 4], [5, 8, 7]], dtype = 'float') \n",
        "print (\"Array created using passed list:\\n\", a) \n",
        "\n",
        "# Creating array from tuple \n",
        "b = np.array((1 , 3, 2)) \n",
        "print (\"\\nArray created using passed tuple:\\n\", b) \n",
        "\n",
        "# Creating a 3X4 array with all zeros \n",
        "c = np.zeros((3, 4)) \n",
        "print (\"\\nAn array initialized with all zeros:\\n\", c) \n",
        "\n",
        "# Create a constant value array of complex type \n",
        "d = np.full((3, 3), 6, dtype = 'complex') \n",
        "print (\"\\nAn array initialized with all 6s.\"\n",
        "\t\t\t\"Array type is complex:\\n\", d) \n",
        "\n",
        "# Create an array with random values \n",
        "e = np.random.random((2, 2)) \n",
        "print (\"\\nA random array:\\n\", e) \n",
        "\n",
        "# Create a sequence of integers \n",
        "# from 0 to 30 with steps of 5 \n",
        "f = np.arange(0, 30, 5) \n",
        "print (\"\\nA sequential array with steps of 5:\\n\", f) \n",
        "\n",
        "# Create a sequence of 10 values in range 0 to 5 \n",
        "g = np.linspace(0, 5, 10) \n",
        "print (\"\\nA sequential array with 10 values between\"\n",
        "\t\t\t\t\t\t\t\t\t\t\"0 and 5:\\n\", g) \n",
        "\n",
        "# Reshaping 3X4 array to 2X2X3 array \n",
        "arr = np.array([[1, 2, 3, 4], \n",
        "\t\t\t\t[5, 2, 4, 2], \n",
        "\t\t\t\t[1, 2, 0, 1]]) \n",
        "\n",
        "newarr = arr.reshape(2, 2, 3) \n",
        "\n",
        "print (\"\\nOriginal array:\\n\", arr) \n",
        "print (\"Reshaped array:\\n\", newarr) \n",
        "\n",
        "# Flatten array \n",
        "arr = np.array([[1, 2, 3], [4, 5, 6]]) \n",
        "flarr = arr.flatten() \n",
        "\n",
        "print (\"\\nOriginal array:\\n\", arr) \n",
        "print (\"Fattened array:\\n\", flarr) \n"
      ],
      "execution_count": 0,
      "outputs": []
    },
    {
      "cell_type": "markdown",
      "metadata": {
        "id": "dnqFff1n_jyd",
        "colab_type": "text"
      },
      "source": [
        "**Array Indexing**: Knowing the basics of array indexing is important for analysing and manipulating the array object. NumPy offers many ways to do array indexing.\n",
        "\n",
        "\n",
        "\n",
        "*   **Slicing**: Just like lists in python, NumPy arrays can be sliced. As arrays can be multidimensional, you need to specify a slice for each dimension of the array.\n",
        "*   **Integer array indexing**: In this method, lists are passed for indexing for each dimension. One to one mapping of corresponding elements is done to construct a new arbitrary array.\n",
        "*   **LBoolean array indexing**: This method is used when we want to pick elements from array which satisfy some condition.\n",
        "\n",
        "\n",
        "\n",
        "\n"
      ]
    },
    {
      "cell_type": "code",
      "metadata": {
        "id": "oRNWfDObAHq0",
        "colab_type": "code",
        "colab": {}
      },
      "source": [
        "# Python program to demonstrate \n",
        "# indexing in numpy \n",
        "import numpy as np \n",
        "\n",
        "# An exemplar array \n",
        "arr = np.array([[-1, 2, 0, 4], \n",
        "\t\t\t\t[4, -0.5, 6, 0], \n",
        "\t\t\t\t[2.6, 0, 7, 8], \n",
        "\t\t\t\t[3, -7, 4, 2.0]]) \n",
        "\n",
        "# Slicing array \n",
        "temp = arr[:2, ::2] \n",
        "print (\"Array with first 2 rows and alternate\"\n",
        "\t\t\t\t\t\"columns(0 and 2):\\n\", temp) \n",
        "\n",
        "# Integer array indexing example \n",
        "temp = arr[[0, 1, 2, 3], [3, 2, 1, 0]] \n",
        "print (\"\\nElements at indices (0, 3), (1, 2), (2, 1),\"\n",
        "\t\t\t\t\t\t\t\t\t\"(3, 0):\\n\", temp) \n",
        "\n",
        "# boolean array indexing example \n",
        "cond = arr > 0 # cond is a boolean array \n",
        "temp = arr[cond] \n",
        "print (\"\\nElements greater than 0:\\n\", temp) \n"
      ],
      "execution_count": 0,
      "outputs": []
    },
    {
      "cell_type": "markdown",
      "metadata": {
        "id": "WUVDDld8AJvB",
        "colab_type": "text"
      },
      "source": [
        "**Basic operations**: Plethora of built-in arithmetic functions are provided in NumPy.\n",
        "\n",
        "\n",
        "\n",
        "*   **Operations on single array**: We can use overloaded arithmetic operators to do element-wise operation on array to create a new array. In case of +=, -=, *= operators, the exsisting array is modified.\n",
        "\n"
      ]
    },
    {
      "cell_type": "code",
      "metadata": {
        "id": "4HxUZfjjAf0u",
        "colab_type": "code",
        "colab": {}
      },
      "source": [
        "# Python program to demonstrate \n",
        "# basic operations on single array \n",
        "import numpy as np \n",
        "\n",
        "a = np.array([1, 2, 5, 3]) \n",
        "\n",
        "# add 1 to every element \n",
        "print (\"Adding 1 to every element:\", a+1) \n",
        "\n",
        "# subtract 3 from each element \n",
        "print (\"Subtracting 3 from each element:\", a-3) \n",
        "\n",
        "# multiply each element by 10 \n",
        "print (\"Multiplying each element by 10:\", a*10) \n",
        "\n",
        "# square each element \n",
        "print (\"Squaring each element:\", a**2) \n",
        "\n",
        "# modify existing array \n",
        "a *= 2\n",
        "print (\"Doubled each element of original array:\", a) \n",
        "\n",
        "# transpose of array \n",
        "a = np.array([[1, 2, 3], [3, 4, 5], [9, 6, 0]]) \n",
        "\n",
        "print (\"\\nOriginal array:\\n\", a) \n",
        "print (\"Transpose of array:\\n\", a.T) \n"
      ],
      "execution_count": 0,
      "outputs": []
    },
    {
      "cell_type": "markdown",
      "metadata": {
        "id": "Z4LE_yz0An5-",
        "colab_type": "text"
      },
      "source": [
        "\n",
        "*   **Binary operators**: These operations apply on array elementwise and a new array is created. You can use all basic arithmetic operators like +, -, /, , etc. In case of +=, -=, = operators, the exsisting array is modified.\n"
      ]
    },
    {
      "cell_type": "code",
      "metadata": {
        "id": "nrr43aO5A4a5",
        "colab_type": "code",
        "colab": {}
      },
      "source": [
        "# Python program to demonstrate \n",
        "# binary operators in Numpy \n",
        "import numpy as np \n",
        "\n",
        "a = np.array([[1, 2], \n",
        "\t\t\t[3, 4]]) \n",
        "b = np.array([[4, 3], \n",
        "\t\t\t[2, 1]]) \n",
        "\n",
        "# add arrays \n",
        "print (\"Array sum:\\n\", a + b) \n",
        "\n",
        "# multiply arrays (elementwise multiplication) \n",
        "print (\"Array multiplication:\\n\", a*b) \n",
        "\n",
        "# matrix multiplication \n",
        "print (\"Matrix multiplication:\\n\", a.dot(b)) \n",
        "#print (\"Matrix multiplication:\\n\", a@b) \n",
        "\n",
        "# inverse matrix \n",
        "print (\"Inverse of Matrix a:\\n\", np.linalg.inv(a)) \n",
        "#print (\"Matrix multiplication:\\n\", a@b) \n"
      ],
      "execution_count": 0,
      "outputs": []
    },
    {
      "cell_type": "markdown",
      "metadata": {
        "id": "Zruvm8MZCBH6",
        "colab_type": "text"
      },
      "source": [
        "# Linear Regression with One dependent variable"
      ]
    },
    {
      "cell_type": "markdown",
      "metadata": {
        "id": "EmiTiGZWDDx5",
        "colab_type": "text"
      },
      "source": [
        "Explains about Regressin and matrix"
      ]
    },
    {
      "cell_type": "markdown",
      "metadata": {
        "id": "uKkwDTQFDdAy",
        "colab_type": "text"
      },
      "source": [
        "**Exercise**\n",
        "\n",
        "First take data of list of cost publicity and the number of sales"
      ]
    },
    {
      "cell_type": "code",
      "metadata": {
        "id": "XS_VkwuxFQyS",
        "colab_type": "code",
        "colab": {}
      },
      "source": [
        "import pandas as pd\n",
        "\n",
        "url = 'http://bit.ly/Test-PHN'\n",
        "data=pd.read_csv(url)\n",
        "\n",
        "data.head()"
      ],
      "execution_count": 0,
      "outputs": []
    },
    {
      "cell_type": "code",
      "metadata": {
        "id": "KAGnwFyrFYGF",
        "colab_type": "code",
        "colab": {}
      },
      "source": [
        "data.describe()"
      ],
      "execution_count": 0,
      "outputs": []
    },
    {
      "cell_type": "markdown",
      "metadata": {
        "id": "Kti0AfXDFj14",
        "colab_type": "text"
      },
      "source": [
        "Get data only for column Cost in TV and Sales"
      ]
    },
    {
      "cell_type": "code",
      "metadata": {
        "id": "2raER16QFb0P",
        "colab_type": "code",
        "colab": {}
      },
      "source": [
        "cdf = data[['xxxxxx', 'xxxxxx']]\n",
        "cdf.head(9)"
      ],
      "execution_count": 0,
      "outputs": []
    },
    {
      "cell_type": "markdown",
      "metadata": {
        "id": "j9ZkoamgGLYw",
        "colab_type": "text"
      },
      "source": [
        "Plot the data Cost in TV vs Sales"
      ]
    },
    {
      "cell_type": "code",
      "metadata": {
        "id": "3BzmcXbDGPjT",
        "colab_type": "code",
        "colab": {}
      },
      "source": [
        "import matplotlib.pyplot as plt\n",
        "plt.scatter(xxxxxxx)\n",
        "plt.xlabel(\"Cost in TV\")\n",
        "plt.ylabel(\"Sales\")\n",
        "plt.show()"
      ],
      "execution_count": 0,
      "outputs": []
    },
    {
      "cell_type": "markdown",
      "metadata": {
        "id": "EVNQUzEgGaxt",
        "colab_type": "text"
      },
      "source": [
        "**Use Least Square Method to find the Linear Regression**\n",
        "\n",
        "Fist take 80% data as Training Data and 20% as testing data"
      ]
    },
    {
      "cell_type": "code",
      "metadata": {
        "id": "OQT4N5eQGi-6",
        "colab_type": "code",
        "colab": {}
      },
      "source": [
        "import numpy as np\n",
        "msk = np.random.rand(xxxx) < 0.8\n",
        "train = cdf[msk]\n",
        "test = cdf[~msk]\n",
        "print(train.TV)"
      ],
      "execution_count": 0,
      "outputs": []
    },
    {
      "cell_type": "markdown",
      "metadata": {
        "id": "4jRtvgXvG69t",
        "colab_type": "text"
      },
      "source": [
        "In order to approximate the data with line, first consider about the line equation such as\n",
        "\n",
        "<center> $y(x) = a_1 x + a_0$ </center>\n",
        "\n",
        "where $x$ is Cost of publication in TV and $y(x)$ is value of sales.\n",
        "\n",
        "Using **Least Square Method** for each data ($\\forall i \\in \\{1, 2, \\cdots , m\\}$), then the total error can be defined as\n",
        "\n",
        "<center> $E(a_0,a_1) = \\displaystyle\\sum_{i=1}^m |y_i - (a_1 x_i + a_0)|$ </center>\n",
        "\n",
        "As the goal of this problem to have minimum error, then error function $E(a_0,a_1)$ needs to minimize by applying partial derivative for $a_0$ and $a_1$. The problem that the above equation is indifferentiable due to absolute value function is not differentiable at zero, therefore total error is given as\n",
        "\n",
        "<center> $E(a_0,a_1) = \\displaystyle\\sum_{i=1}^m |y_i - (a_1 x_i + a_0)|^2$ </center>\n",
        "\n",
        "Then to minimize the error, \n",
        "\n",
        "<center>$\\displaystyle \\frac{\\partial E}{\\partial a_0}=2\\displaystyle\\sum_{i=1}^m |y_i - (a_1 x_i + a_0)| (-1) =0$</center>\n",
        "\n",
        "and\n",
        "\n",
        "<center>$\\displaystyle \\frac{\\partial E}{\\partial a_1}=2\\displaystyle\\sum_{i=1}^m |y_i - (a_1 x_i + a_0)| (-x_i)=0$</center>\n",
        "\n",
        "Finally, system of equations is obtained as\n",
        "\n",
        "<center>$a_0 \\displaystyle\\sum_{i=1}^m 1 + a_1 \\displaystyle\\sum_{i=1}^m x_i = \\displaystyle\\sum_{i=1}^m y_i$</center>\n",
        "<center>$a_0 \\displaystyle\\sum_{i=1}^m x_i + a_1 \\displaystyle\\sum_{i=1}^m x_i^2 = \\displaystyle\\sum_{i=1}^m y_ix_i$</center>\n",
        "\n",
        "or can be written as\n",
        "\n",
        "<center>$\\left[\\begin{matrix}\n",
        "m & \\displaystyle\\sum_{i=1}^m x_i \\\\\n",
        "\\displaystyle\\sum_{i=1}^m x_i & \\displaystyle\\sum_{i=1}^m x_i^2\n",
        "\\end{matrix}\\right] \\cdot\n",
        "\\left[\\begin{matrix}\n",
        "a_0\\\\\n",
        "a_1\n",
        "\\end{matrix}\\right]=\n",
        "\\left[\\begin{matrix}\n",
        "\\displaystyle\\sum_{i=1}^m y_i\\\\\n",
        "\\displaystyle\\sum_{i=1}^m y_ix_i\n",
        "\\end{matrix}\\right]$\n",
        "</center>\n",
        "\n",
        "Define matrix $A$ and vector $\\vec{b}$ and define the coefficients in $\\vec{x}$ by\n",
        "\n",
        "<center> $A \\cdot \\vec{x} = \\vec{b}$ </center>"
      ]
    },
    {
      "cell_type": "code",
      "metadata": {
        "id": "g2NDJcNjHc4-",
        "colab_type": "code",
        "outputId": "c109e8eb-7c48-4147-bd5e-657d81612ea1",
        "colab": {
          "base_uri": "https://localhost:8080/",
          "height": 68
        }
      },
      "source": [
        "a11 = \n",
        "a12 = \n",
        "a21 = \n",
        "a22 = \n",
        "\n",
        "b1 = \n",
        "b2 = \n",
        "\n",
        "A = np.array([[a11, a12], [a21, a22]])\n",
        "print(A)\n",
        "b = np.array([ b1, b2])\n",
        "print(b)\n",
        "\n",
        "x = ????\n",
        "\n",
        "print(x)"
      ],
      "execution_count": 0,
      "outputs": [
        {
          "output_type": "stream",
          "text": [
            "[[1.58000000e+02 2.36260000e+04]\n",
            " [2.36260000e+04 4.70663684e+06]]\n",
            "0.04868565449595258\n"
          ],
          "name": "stdout"
        }
      ]
    },
    {
      "cell_type": "markdown",
      "metadata": {
        "id": "dpOdcoydJNCY",
        "colab_type": "text"
      },
      "source": [
        "Plot the line and the data training"
      ]
    },
    {
      "cell_type": "code",
      "metadata": {
        "id": "Nfdy6Wh6JaYK",
        "colab_type": "code",
        "colab": {}
      },
      "source": [
        "plt.plot(xxxx,xxxxx, color = 'red', linewidth=3)\n",
        "plt.scatter(xxxx,xxxx,  color='blue')\n",
        "plt.xlabel(\"Cost in TV\")\n",
        "plt.ylabel(\"Sales\")\n",
        "plt.show()"
      ],
      "execution_count": 0,
      "outputs": []
    },
    {
      "cell_type": "markdown",
      "metadata": {
        "id": "nYA3tZKyDqf5",
        "colab_type": "text"
      },
      "source": [
        "**Accuracy**\n",
        "By calculating the error\n",
        "\n",
        "$MSE = \\displaystyle \\frac{1}{m} \\displaystyle \\sum_{i=1}^m |y_i - \\hat{y}_i|^2$"
      ]
    },
    {
      "cell_type": "code",
      "metadata": {
        "id": "rbYqYzYuEOtV",
        "colab_type": "code",
        "colab": {}
      },
      "source": [
        "yhat = x[1]*test.TV +x[0]\n",
        "\n",
        "MSE = sum(xxxx)\n",
        "\n",
        "MSE\n"
      ],
      "execution_count": 0,
      "outputs": []
    },
    {
      "cell_type": "markdown",
      "metadata": {
        "id": "-6BgzBveJZTH",
        "colab_type": "text"
      },
      "source": [
        "**R-squared ($R^2$)**\n",
        "\n",
        "R-squared, also known as the coefficient of determination, is the statistical measurement of the correlation between an investment’s performance and a specific benchmark index. In other words, it shows what degree a stock or portfolio’s performance can be attributed to a benchmark index."
      ]
    },
    {
      "cell_type": "code",
      "metadata": {
        "id": "QDg5kpy2JD_L",
        "colab_type": "code",
        "colab": {}
      },
      "source": [
        "\n",
        "from sklearn.metrics import r2_score\n",
        "\n",
        "coefficient_of_dermination = r2_score(test.sales, yhat)\n",
        "\n",
        "coefficient_of_dermination"
      ],
      "execution_count": 0,
      "outputs": []
    },
    {
      "cell_type": "markdown",
      "metadata": {
        "id": "6i4Bx7Qud3uX",
        "colab_type": "text"
      },
      "source": [
        "# Exercises\n",
        "\n",
        "\n",
        "\n",
        "1.   Define a linear regression of cost in Radio vs sales and compute the performances\n",
        "2.   Define a linear regression of cost in Newspaper vs sales and compute the performances\n",
        "3.   Define a linear regression from data 'http://bit.ly/Test-PHN2' and analyze the performances\n",
        "\n"
      ]
    },
    {
      "cell_type": "markdown",
      "metadata": {
        "id": "6OEEnRwqF1ot",
        "colab_type": "text"
      },
      "source": [
        "# Polynomial Least Square\n",
        "\n",
        "<img src = \"https://i.imgur.com/NXWh9Dc.png\" align = \"center\">"
      ]
    },
    {
      "cell_type": "code",
      "metadata": {
        "id": "f_42F-PfG1IA",
        "colab_type": "code",
        "colab": {}
      },
      "source": [
        "data_exercise= {\n",
        "    'x': [????], \n",
        "    'y': [????]\n",
        "}\n",
        "Data_n = pd.DataFrame(data_exercise)\n",
        "\n",
        "Data_n"
      ],
      "execution_count": 0,
      "outputs": []
    },
    {
      "cell_type": "markdown",
      "metadata": {
        "id": "oSs8yvTlH1RS",
        "colab_type": "text"
      },
      "source": [
        "**Plot the data**"
      ]
    },
    {
      "cell_type": "code",
      "metadata": {
        "id": "NrNk1uzdH4ik",
        "colab_type": "code",
        "colab": {}
      },
      "source": [
        "import matplotlib.pyplot as plt\n",
        "plt.scatter(Data_n.x, Data_n.y,  color='blue')\n",
        "plt.ylim(0,3)\n",
        "plt.xlabel(\"x\")\n",
        "plt.ylabel(\"y\")\n",
        "plt.show()"
      ],
      "execution_count": 0,
      "outputs": []
    },
    {
      "cell_type": "markdown",
      "metadata": {
        "id": "B15QIyTMIiRJ",
        "colab_type": "text"
      },
      "source": [
        "Find the polynomial least square"
      ]
    },
    {
      "cell_type": "code",
      "metadata": {
        "id": "sYTNARHqIlwn",
        "colab_type": "code",
        "colab": {}
      },
      "source": [
        "a11 =  \n",
        "a12 =  \n",
        "a13 =  \n",
        "\n",
        "a21 =  \n",
        "a22 =  \n",
        "a23 =  \n",
        "\n",
        "a31 =  \n",
        "a32 =  \n",
        "a33 =  \n",
        "\n",
        "b1 =  \n",
        "b2 =  \n",
        "b3 =  \n",
        "\n",
        "A = ???\n",
        "print(A)\n",
        "b =???\n",
        "\n",
        "x = ???\n",
        "\n",
        "print(x)\n"
      ],
      "execution_count": 0,
      "outputs": []
    },
    {
      "cell_type": "markdown",
      "metadata": {
        "id": "5jPkGQrWP6Q2",
        "colab_type": "text"
      },
      "source": [
        "**Plot results**"
      ]
    },
    {
      "cell_type": "code",
      "metadata": {
        "id": "M5VBHXP0P-La",
        "colab_type": "code",
        "colab": {}
      },
      "source": [
        "import matplotlib.pyplot as plt\n",
        "plt.scatter(Data_n.x, Data_n.y,  color='blue')\n",
        "plt.plot(????, ??????, color = 'red', linewidth=3)\n",
        "plt.ylim(0,3)\n",
        "plt.xlabel(\"x\")\n",
        "plt.ylabel(\"y\")\n",
        "plt.show()"
      ],
      "execution_count": 0,
      "outputs": []
    }
  ]
}